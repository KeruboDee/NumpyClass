{
 "cells": [
  {
   "cell_type": "code",
   "execution_count": 2,
   "id": "dcd98dcb",
   "metadata": {},
   "outputs": [],
   "source": [
    "import numpy as np"
   ]
  },
  {
   "cell_type": "code",
   "execution_count": 14,
   "id": "cc943610",
   "metadata": {},
   "outputs": [
    {
     "data": {
      "text/plain": [
       "dtype('int32')"
      ]
     },
     "execution_count": 14,
     "metadata": {},
     "output_type": "execute_result"
    }
   ],
   "source": [
    "# list of numbers\n",
    "x = [2, 3, 4, 5, 6, 7, 8]\n",
    "\n",
    "# to create a numpy array\n",
    "y = np.array(x)\n",
    "# or\n",
    "a = np.array([2, 3, 4, 5, 6, 7, 8])\n",
    "a.dtype"
   ]
  },
  {
   "cell_type": "code",
   "execution_count": 15,
   "id": "769e1928",
   "metadata": {},
   "outputs": [
    {
     "data": {
      "text/plain": [
       "1"
      ]
     },
     "execution_count": 15,
     "metadata": {},
     "output_type": "execute_result"
    }
   ],
   "source": [
    "# to get the dimension of an array\n",
    "a.ndim"
   ]
  },
  {
   "cell_type": "code",
   "execution_count": 16,
   "id": "a9e84f47",
   "metadata": {},
   "outputs": [
    {
     "data": {
      "text/plain": [
       "(7,)"
      ]
     },
     "execution_count": 16,
     "metadata": {},
     "output_type": "execute_result"
    }
   ],
   "source": [
    "# to check the shape\n",
    "a.shape"
   ]
  },
  {
   "cell_type": "code",
   "execution_count": 17,
   "id": "8ce35cde",
   "metadata": {},
   "outputs": [
    {
     "data": {
      "text/plain": [
       "28"
      ]
     },
     "execution_count": 17,
     "metadata": {},
     "output_type": "execute_result"
    }
   ],
   "source": [
    "# check the size/total size consumed by an array in bytes\n",
    "a.nbytes"
   ]
  },
  {
   "cell_type": "code",
   "execution_count": 18,
   "id": "9f928a2d",
   "metadata": {},
   "outputs": [
    {
     "data": {
      "text/plain": [
       "7"
      ]
     },
     "execution_count": 18,
     "metadata": {},
     "output_type": "execute_result"
    }
   ],
   "source": [
    "# to check the size of an array\n",
    "a.size"
   ]
  },
  {
   "cell_type": "code",
   "execution_count": 21,
   "id": "9185dd11",
   "metadata": {},
   "outputs": [
    {
     "data": {
      "text/plain": [
       "array([[1, 2, 3],\n",
       "       [4, 5, 6]])"
      ]
     },
     "execution_count": 21,
     "metadata": {},
     "output_type": "execute_result"
    }
   ],
   "source": [
    "# to create a matrix\n",
    "mat = np.array([[1, 2, 3], [4, 5, 6]])\n",
    "mat"
   ]
  },
  {
   "cell_type": "code",
   "execution_count": 23,
   "id": "1061bb9b",
   "metadata": {},
   "outputs": [
    {
     "data": {
      "text/plain": [
       "array([[[1, 2, 3],\n",
       "        [4, 5, 6]],\n",
       "\n",
       "       [[7, 8, 9],\n",
       "        [1, 2, 3]]])"
      ]
     },
     "execution_count": 23,
     "metadata": {},
     "output_type": "execute_result"
    }
   ],
   "source": [
    "# to create a tensor\n",
    "ten = np.array([[[1, 2, 3], [4, 5, 6]], [[7, 8, 9], [1, 2, 3]]])\n",
    "ten\n"
   ]
  },
  {
   "cell_type": "code",
   "execution_count": 25,
   "id": "0b032c32",
   "metadata": {},
   "outputs": [
    {
     "data": {
      "text/plain": [
       "array([[1, 2, 3],\n",
       "       [4, 5, 6],\n",
       "       [7, 8, 9]])"
      ]
     },
     "execution_count": 25,
     "metadata": {},
     "output_type": "execute_result"
    }
   ],
   "source": [
    "# Different ways of creating Numpy Arrays\n",
    "# array method\n",
    "nums = np.array([[1, 2, 3], [4, 5, 6], [7, 8, 9]])\n",
    "nums"
   ]
  },
  {
   "cell_type": "code",
   "execution_count": 29,
   "id": "e7024c8c",
   "metadata": {},
   "outputs": [
    {
     "data": {
      "text/plain": [
       "array([2, 4, 6, 8])"
      ]
     },
     "execution_count": 29,
     "metadata": {},
     "output_type": "execute_result"
    }
   ],
   "source": [
    "# arange method\n",
    "arange = np.arange(2,9)\n",
    "arange\n",
    "# or\n",
    "arn = np.arange(2, 9, 2)\n",
    "arn"
   ]
  },
  {
   "cell_type": "code",
   "execution_count": 36,
   "id": "169128d8",
   "metadata": {},
   "outputs": [
    {
     "data": {
      "text/plain": [
       "array([[0., 0., 0., 0.],\n",
       "       [0., 0., 0., 0.]])"
      ]
     },
     "execution_count": 36,
     "metadata": {},
     "output_type": "execute_result"
    }
   ],
   "source": [
    "# zeros method\n",
    "zer = np.zeros([2,4])\n",
    "zer"
   ]
  },
  {
   "cell_type": "code",
   "execution_count": 37,
   "id": "e7ca47bc",
   "metadata": {},
   "outputs": [
    {
     "data": {
      "text/plain": [
       "array([[1., 1., 1.],\n",
       "       [1., 1., 1.],\n",
       "       [1., 1., 1.]])"
      ]
     },
     "execution_count": 37,
     "metadata": {},
     "output_type": "execute_result"
    }
   ],
   "source": [
    "# ones mehod\n",
    "one = np.ones([3, 3])\n",
    "one"
   ]
  },
  {
   "cell_type": "code",
   "execution_count": 41,
   "id": "9c6b514b",
   "metadata": {},
   "outputs": [
    {
     "name": "stdout",
     "output_type": "stream",
     "text": [
      "[[1. 0. 0. 0.]\n",
      " [0. 1. 0. 0.]\n",
      " [0. 0. 1. 0.]\n",
      " [0. 0. 0. 1.]]\n",
      "------------------------\n",
      "[[1. 0. 0. 0.]\n",
      " [0. 1. 0. 0.]\n",
      " [0. 0. 1. 0.]\n",
      " [0. 0. 0. 1.]]\n"
     ]
    }
   ],
   "source": [
    "# eye/identity method\n",
    "identity = np.identity(4)\n",
    "print(identity)\n",
    "print('------------------------')\n",
    "eye = np.eye(4)\n",
    "print(eye)"
   ]
  },
  {
   "cell_type": "code",
   "execution_count": 42,
   "id": "2758925f",
   "metadata": {},
   "outputs": [
    {
     "data": {
      "text/plain": [
       "array([ 2.,  4.,  6.,  8., 10.])"
      ]
     },
     "execution_count": 42,
     "metadata": {},
     "output_type": "execute_result"
    }
   ],
   "source": [
    "# linspace method\n",
    "lin = np.linspace(2, 10, 5)\n",
    "lin"
   ]
  },
  {
   "cell_type": "code",
   "execution_count": 55,
   "id": "a8d9ea31",
   "metadata": {},
   "outputs": [
    {
     "name": "stdout",
     "output_type": "stream",
     "text": [
      "Random Numbers\n",
      "[[0.81668496 0.83184785]\n",
      " [0.63819284 0.44758706]\n",
      " [0.04453418 0.63905233]\n",
      " [0.01233756 0.37699878]]\n",
      "----------------------------------------------------------\n",
      "Normal/Gaussian Distribution\n",
      "[[-1.9821486  -0.50721372 -0.324175  ]\n",
      " [-0.88624478 -0.20045942 -1.87460964]\n",
      " [ 0.76159188 -1.24260233  0.37641876]]\n",
      "-----------------------------------------------------------\n",
      "Random Integers\n",
      "[74 58 23 72 79]\n"
     ]
    }
   ],
   "source": [
    "# random method\n",
    "print('Random Numbers')\n",
    "ran = np.random.rand(4, 2)\n",
    "print(ran)\n",
    "\n",
    "print('----------------------------------------------------------')\n",
    "print('Normal/Gaussian Distribution')\n",
    "# random numbers with the gaussian/normal distribuion\n",
    "rnd = np.random.randn(3, 3)\n",
    "print(rnd)\n",
    "\n",
    "print('-----------------------------------------------------------')\n",
    "print('Random Integers')\n",
    "# random integers\n",
    "rand = np.random.randint(20, 100, 5)\n",
    "print(rand)"
   ]
  },
  {
   "cell_type": "code",
   "execution_count": 57,
   "id": "bec63eb2",
   "metadata": {},
   "outputs": [
    {
     "data": {
      "text/plain": [
       "array([[39, 70, 50],\n",
       "       [40, 89, 64],\n",
       "       [28, 47, 85],\n",
       "       [21, 43, 62],\n",
       "       [55, 27, 98]])"
      ]
     },
     "execution_count": 57,
     "metadata": {},
     "output_type": "execute_result"
    }
   ],
   "source": [
    "# reshaping numpy arrays\n",
    "n = np.random.randint(10, 100, 15).reshape(5, 3)\n",
    "n"
   ]
  },
  {
   "cell_type": "code",
   "execution_count": 69,
   "id": "9ab9b4d3",
   "metadata": {},
   "outputs": [
    {
     "name": "stdout",
     "output_type": "stream",
     "text": [
      "[43 98 46 39 35]\n",
      "35\n",
      "98\n",
      "1\n",
      "4\n",
      "52.2\n",
      "43.0\n",
      "23.198275797998438\n",
      "538.1600000000001\n"
     ]
    }
   ],
   "source": [
    "# STATISTICS\n",
    "# creating random five integers\n",
    "d = np.random.randint(10, 100, 5)\n",
    "print(d)\n",
    "\n",
    "# finding min and max values\n",
    "dmin = d.min()\n",
    "print(dmin)\n",
    "\n",
    "dmax = d.max()\n",
    "print(dmax)\n",
    "\n",
    "# index of max and min value\n",
    "print(d.argmax())\n",
    "print(d.argmin())\n",
    "\n",
    "# mean\n",
    "print(d.mean())\n",
    "\n",
    "# median\n",
    "print(np.median(d))\n",
    "\n",
    "# standard deviation\n",
    "print(d.std())\n",
    "\n",
    "# variance\n",
    "print(np.var(d))"
   ]
  },
  {
   "cell_type": "code",
   "execution_count": 81,
   "id": "d1862d25",
   "metadata": {},
   "outputs": [
    {
     "name": "stdout",
     "output_type": "stream",
     "text": [
      "[0 1 2 3 4 5 6 7 8 9]\n",
      "[2 3 4]\n",
      "[[ 1.   5.6]\n",
      " [14.8 19.4]]\n"
     ]
    }
   ],
   "source": [
    "# array indexing\n",
    "# 1D\n",
    "y = np.arange(10)\n",
    "print(y)\n",
    "print(y[2:5])\n",
    "\n",
    "# 2D\n",
    "x = np.linspace(1, 24, 6).reshape(2, 3)\n",
    "x\n",
    "print(x[:2, :2])"
   ]
  },
  {
   "cell_type": "code",
   "execution_count": 4,
   "id": "d0679ef8",
   "metadata": {},
   "outputs": [
    {
     "data": {
      "text/plain": [
       "array([ 1,  2,  3,  4,  5,  6,  7,  8,  9, 10, 11, 12, 13, 14, 15])"
      ]
     },
     "execution_count": 4,
     "metadata": {},
     "output_type": "execute_result"
    }
   ],
   "source": [
    "# Maths with numpy\n",
    "nums = np.arange(1, 16)\n",
    "nums"
   ]
  },
  {
   "cell_type": "code",
   "execution_count": 5,
   "id": "a6c6bffd",
   "metadata": {},
   "outputs": [
    {
     "data": {
      "text/plain": [
       "array([ 2,  4,  6,  8, 10, 12, 14, 16, 18, 20, 22, 24, 26, 28, 30])"
      ]
     },
     "execution_count": 5,
     "metadata": {},
     "output_type": "execute_result"
    }
   ],
   "source": [
    "# adding two arrays\n",
    "nums2 = nums +nums\n",
    "nums2\n",
    "# adding a number to an array\n",
    "nums3 = nums + 2\n",
    "nums3\n",
    "# subtraction\n",
    "nums4 = nums-9\n",
    "nums4\n",
    "# multiplication\n",
    "nums5 = nums *2\n",
    "nums5"
   ]
  },
  {
   "cell_type": "code",
   "execution_count": 6,
   "id": "d62d91b1",
   "metadata": {},
   "outputs": [],
   "source": [
    "# log\n",
    "np.log(nums)\n",
    "# square\n",
    "np.square(nums)\n",
    "# squareroot\n",
    "np.sqrt(nums)\n",
    "# floor-the largest integer greater than or equalto each element\n",
    "np.floor(nums/2)\n",
    "# ceiling-the smallest integer greater than or equalto each element\n",
    "np.ceil(nums/2)\n",
    "# exponential function\n",
    "x = np.exp(nums)\n",
    "# sine function\n",
    "x = np.sin(nums)\n",
    "# cosine function\n",
    "x = np.cos(nums)"
   ]
  },
  {
   "cell_type": "code",
   "execution_count": 9,
   "id": "543cbd5f",
   "metadata": {},
   "outputs": [
    {
     "name": "stdout",
     "output_type": "stream",
     "text": [
      "32\n",
      "32\n",
      "32\n"
     ]
    }
   ],
   "source": [
    "# LINEAR ALGEBRA OPERATIONS WITH NUMPY ARRAY\n",
    "# Finding the vector dot product\n",
    "# create two vectors\n",
    "x = np.array([2, 5])\n",
    "y = np.array([6, 4]) #the dot product of the two vectors is (2*6)+(5*4)=32\n",
    "\n",
    "# to find the dot product without using the numpy library\n",
    "dot_product = 0\n",
    "for a, b in zip(x, y):\n",
    "    dot_product += a * b\n",
    "print(dot_product) \n",
    "\n",
    "# using the numpy library\n",
    "a = x * y\n",
    "print(a.sum())\n",
    "\n",
    "# using the dot method from the numpy library\n",
    "print(x.dot(y))"
   ]
  },
  {
   "cell_type": "code",
   "execution_count": 19,
   "id": "9c900974",
   "metadata": {},
   "outputs": [
    {
     "name": "stdout",
     "output_type": "stream",
     "text": [
      "[[1 2 3]\n",
      " [4 5 6]]\n",
      "[[9 8]\n",
      " [7 5]\n",
      " [4 3]]\n",
      "[[35 27]\n",
      " [95 75]]\n",
      "[[ 5 12]\n",
      " [21 32]]\n"
     ]
    }
   ],
   "source": [
    "# Matrix multiplication\n",
    "# create two matrices\n",
    "X= np.array(([1, 2, 3], [4, 5, 6]))\n",
    "Y = np.array(([9, 8], [7, 5], [4, 3]))\n",
    "print(X)\n",
    "print(Y)\n",
    "print(np.dot(X, Y))\n",
    "\n",
    "# to multiply X and Y element-wise(both matrices must be the same shape)\n",
    "arr1 = np.array(([1, 2], [3, 4]))\n",
    "arr2 = np.array(([5, 6], [7, 8]))\n",
    "print(np.multiply(arr1, arr2))"
   ]
  },
  {
   "cell_type": "code",
   "execution_count": 21,
   "id": "12d6ce99",
   "metadata": {},
   "outputs": [
    {
     "name": "stdout",
     "output_type": "stream",
     "text": [
      "[[-2.   1. ]\n",
      " [ 1.5 -0.5]]\n",
      "[[1.0000000e+00 0.0000000e+00]\n",
      " [8.8817842e-16 1.0000000e+00]]\n"
     ]
    }
   ],
   "source": [
    "# finding the inverse of a matrix\n",
    "# finding the inverse of a 2by2 matrix\n",
    "a = np.array(([1, 2], [3, 4]))\n",
    "z = np.linalg.inv(a)\n",
    "print(z)\n",
    "\n",
    "# to verify if the inverse is correct we can take the dot product of a matrix with its inverse which should yield an identity matrix\n",
    "identity_matrix = a.dot(z)\n",
    "print(identity_matrix)"
   ]
  },
  {
   "cell_type": "code",
   "execution_count": 22,
   "id": "9884e1a2",
   "metadata": {},
   "outputs": [
    {
     "data": {
      "text/plain": [
       "0.0"
      ]
     },
     "execution_count": 22,
     "metadata": {},
     "output_type": "execute_result"
    }
   ],
   "source": [
    "# finding the determinant of amatrix\n",
    "x = np.array(([1, 2, 3], [4, 5, 6,], [7, 8, 9]))\n",
    "det = np.linalg.det(x)\n",
    "det"
   ]
  },
  {
   "cell_type": "code",
   "execution_count": 23,
   "id": "9e07568b",
   "metadata": {},
   "outputs": [
    {
     "data": {
      "text/plain": [
       "15"
      ]
     },
     "execution_count": 23,
     "metadata": {},
     "output_type": "execute_result"
    }
   ],
   "source": [
    "# finding the trace of a matrix\n",
    "x = np.array(([1, 2, 3], [4, 5, 6,], [7, 8, 9]))\n",
    "trc = np.trace(x)\n",
    "trc"
   ]
  },
  {
   "cell_type": "code",
   "execution_count": null,
   "id": "08eda738",
   "metadata": {},
   "outputs": [],
   "source": []
  },
  {
   "cell_type": "code",
   "execution_count": null,
   "id": "64bfab62",
   "metadata": {},
   "outputs": [],
   "source": []
  },
  {
   "cell_type": "code",
   "execution_count": null,
   "id": "0f687455",
   "metadata": {},
   "outputs": [],
   "source": []
  },
  {
   "cell_type": "code",
   "execution_count": null,
   "id": "145cfe03",
   "metadata": {},
   "outputs": [],
   "source": []
  },
  {
   "cell_type": "code",
   "execution_count": null,
   "id": "5a27f22a",
   "metadata": {},
   "outputs": [],
   "source": []
  },
  {
   "cell_type": "code",
   "execution_count": null,
   "id": "a778e6af",
   "metadata": {},
   "outputs": [],
   "source": []
  }
 ],
 "metadata": {
  "kernelspec": {
   "display_name": "Python 3 (ipykernel)",
   "language": "python",
   "name": "python3"
  },
  "language_info": {
   "codemirror_mode": {
    "name": "ipython",
    "version": 3
   },
   "file_extension": ".py",
   "mimetype": "text/x-python",
   "name": "python",
   "nbconvert_exporter": "python",
   "pygments_lexer": "ipython3",
   "version": "3.10.1"
  }
 },
 "nbformat": 4,
 "nbformat_minor": 5
}
